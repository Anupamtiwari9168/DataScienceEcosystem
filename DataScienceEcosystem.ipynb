{
 "cells": [
  {
   "cell_type": "markdown",
   "id": "fd256cd8-a3fa-4ea6-ba24-370ba846c9a2",
   "metadata": {},
   "source": [
    "# DataScienceEcosystem"
   ]
  },
  {
   "cell_type": "markdown",
   "id": "c0d9d18a-d730-40b9-b9bb-321bc4e14d77",
   "metadata": {},
   "source": [
    "Introduction : In this notebook, Data Science tools and Ecosystem are summarized.\n",
    "\n",
    "**Objectives**\n",
    " - R\n",
    " - Pyhton\n",
    " - SQL\n",
    " - Jupyter Notebook"
   ]
  },
  {
   "cell_type": "markdown",
   "id": "a7ac5259-ec74-49b0-a4b8-7513e67ba15f",
   "metadata": {},
   "source": [
    "Some of the popular languages that Data Scientists use are:\n",
    "1. Python\n",
    "2. SQL\n",
    "3. R "
   ]
  },
  {
   "cell_type": "markdown",
   "id": "7ecec06e-4dda-4b10-9161-e3f34b4b8778",
   "metadata": {},
   "source": [
    "Some of the commonly used libraries used by Data Scientists include:\n",
    "\n",
    "1. Numpy\n",
    "2. Pandas\n",
    "3. Matplotlib\n",
    "4. Seaborn\n"
   ]
  },
  {
   "cell_type": "markdown",
   "id": "fac23818-2b32-4c76-8fdd-f2726d8232ae",
   "metadata": {},
   "source": [
    "|Data Science Tools|\n",
    "|-----------------|\n",
    " |Jupyter notbook|\n",
    " |Anconda|\n",
    " |NoSQL|\n",
    " \n"
   ]
  },
  {
   "cell_type": "markdown",
   "id": "4bf42af4-09ff-4f40-83df-b5bf1bb13c86",
   "metadata": {},
   "source": [
    "### Below are a few examples of evaluating arithmetic expressions in Python\n"
   ]
  },
  {
   "cell_type": "code",
   "execution_count": 11,
   "id": "89a825e6-4ce7-465f-bf09-a81c31bff813",
   "metadata": {},
   "outputs": [
    {
     "data": {
      "text/plain": [
       "17"
      ]
     },
     "execution_count": 11,
     "metadata": {},
     "output_type": "execute_result"
    }
   ],
   "source": [
    "# This a simple arithmetic expression to mutiply then add integers\n",
    "(3*4)+5"
   ]
  },
  {
   "cell_type": "code",
   "execution_count": 13,
   "id": "b9703393-a947-4df3-b82e-ab85e6c1d0e4",
   "metadata": {},
   "outputs": [
    {
     "data": {
      "text/plain": [
       "3.3333333333333335"
      ]
     },
     "execution_count": 13,
     "metadata": {},
     "output_type": "execute_result"
    }
   ],
   "source": [
    "200/60"
   ]
  },
  {
   "cell_type": "code",
   "execution_count": null,
   "id": "96e3fd14-4799-482b-901c-4265797005ed",
   "metadata": {},
   "outputs": [],
   "source": []
  }
 ],
 "metadata": {
  "kernelspec": {
   "display_name": "Python 3 (ipykernel)",
   "language": "python",
   "name": "python3"
  },
  "language_info": {
   "codemirror_mode": {
    "name": "ipython",
    "version": 3
   },
   "file_extension": ".py",
   "mimetype": "text/x-python",
   "name": "python",
   "nbconvert_exporter": "python",
   "pygments_lexer": "ipython3",
   "version": "3.12.7"
  }
 },
 "nbformat": 4,
 "nbformat_minor": 5
}
